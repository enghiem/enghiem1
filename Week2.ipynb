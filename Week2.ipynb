{
 "cells": [
  {
   "cell_type": "code",
   "execution_count": 1,
   "metadata": {
    "collapsed": true
   },
   "outputs": [],
   "source": [
    "import numpy as np\n",
    "import pandas as pd\n",
    "import scipy as sp"
   ]
  },
  {
   "cell_type": "code",
   "execution_count": 2,
   "metadata": {
    "collapsed": true
   },
   "outputs": [],
   "source": [
    "%matplotlib inline\n",
    "import matplotlib.pyplot as plt\n",
    "plt.style.use('ggplot')"
   ]
  },
  {
   "cell_type": "code",
   "execution_count": 85,
   "metadata": {},
   "outputs": [
    {
     "name": "stdout",
     "output_type": "stream",
     "text": [
      "Overwriting hw_data.csv\n"
     ]
    }
   ],
   "source": [
    "%%file hw_data.csv\n",
    "id,sex,weight,height\n",
    "1,M,190,77\n",
    "2,F,120,70\n",
    "3,F,110,68\n",
    "4,M,150,72\n",
    "5,O,120,66\n",
    "6,M,120,60\n",
    "7,F,140,70"
   ]
  },
  {
   "cell_type": "code",
   "execution_count": null,
   "metadata": {},
   "outputs": [],
   "source": [
    "# %load hw_data.csv\n",
    "id,sex,weight,height\n",
    "1,M,190,77\n",
    "2,F,120,70\n",
    "3,F,110,68\n",
    "4,M,150,72\n",
    "5,O,120,66\n",
    "6,M,120,60\n",
    "7,F,140,70"
   ]
  },
  {
   "cell_type": "code",
   "execution_count": 97,
   "metadata": {},
   "outputs": [
    {
     "name": "stdout",
     "output_type": "stream",
     "text": [
      "Writing test_1.csv\n"
     ]
    }
   ],
   "source": [
    "%%file test_1.csv\n",
    "id, height\n",
    "1, 100\n",
    "2, 200"
   ]
  },
  {
   "cell_type": "code",
   "execution_count": 103,
   "metadata": {},
   "outputs": [
    {
     "name": "stdout",
     "output_type": "stream",
     "text": [
      "   id   height\n",
      "0   1      100\n",
      "1   2      200\n"
     ]
    }
   ],
   "source": [
    "df = pd.read_csv('test_1.csv', sep=',')\n",
    "print(df)"
   ]
  },
  {
   "cell_type": "markdown",
   "metadata": {},
   "source": [
    "## 1. Finish creating the following function that takes a list and returns the average value."
   ]
  },
  {
   "cell_type": "code",
   "execution_count": 46,
   "metadata": {},
   "outputs": [
    {
     "data": {
      "text/plain": [
       "1.0"
      ]
     },
     "execution_count": 46,
     "metadata": {},
     "output_type": "execute_result"
    }
   ],
   "source": [
    "def average(my_list):\n",
    "    total = 0\n",
    "    for item in my_list:\n",
    "        #do something with item!\n",
    "        total = total + 1\n",
    "    \n",
    "    return total/len(my_list)\n",
    "\n",
    "average([1,2,1,4,3,2,5,9])"
   ]
  },
  {
   "cell_type": "markdown",
   "metadata": {},
   "source": [
    "## 2. Using a Dictionary keep track of the count of numbers (or items) from a list"
   ]
  },
  {
   "cell_type": "code",
   "execution_count": 74,
   "metadata": {},
   "outputs": [
    {
     "data": {
      "text/plain": [
       "{1: 2, 2: 2, 3: 1, 4: 1, 5: 1, 9: 1}"
      ]
     },
     "execution_count": 74,
     "metadata": {},
     "output_type": "execute_result"
    }
   ],
   "source": [
    "def counts(my_list):\n",
    "    counts = dict()\n",
    "    for item in my_list:\n",
    "        #do something with item!\n",
    "        counts[item] = counts.get(item, 0) + 1\n",
    "    return counts\n",
    "\n",
    "counts([1,2,1,4,3,2,5,9])    "
   ]
  },
  {
   "cell_type": "markdown",
   "metadata": {},
   "source": [
    "## 3.  Using the `counts()` function and the `.split()` function, return a dictionary of most occuring words from the following paragraph. Bonus, remove punctuation from words."
   ]
  },
  {
   "cell_type": "code",
   "execution_count": 214,
   "metadata": {},
   "outputs": [
    {
     "data": {
      "text/plain": [
       "[('the', 32),\n",
       " ('and', 16),\n",
       " ('a', 15),\n",
       " ('to', 15),\n",
       " ('of', 9),\n",
       " ('was', 8),\n",
       " ('in', 7),\n",
       " ('she', 6),\n",
       " ('at', 6),\n",
       " ('he', 5)]"
      ]
     },
     "execution_count": 214,
     "metadata": {},
     "output_type": "execute_result"
    }
   ],
   "source": [
    "paragraph_text = '''\n",
    "For a minute or two she stood looking at the house, and wondering what to do next, when suddenly a footman in livery came running out of the wood—(she considered him to be a footman because he was in livery: otherwise, judging by his face only, she would have called him a fish)—and rapped loudly at the door with his knuckles. It was opened by another footman in livery, with a round face, and large eyes like a frog; and both footmen, Alice noticed, had powdered hair that curled all over their heads. She felt very curious to know what it was all about, and crept a little way out of the wood to listen.\n",
    "The Fish-Footman began by producing from under his arm a great letter, nearly as large as himself, and this he handed over to the other, saying, in a solemn tone, ‘For the Duchess. An invitation from the Queen to play croquet.’ The Frog-Footman repeated, in the same solemn tone, only changing the order of the words a little, ‘From the Queen. An invitation for the Duchess to play croquet.’\n",
    "Then they both bowed low, and their curls got entangled together.\n",
    "Alice laughed so much at this, that she had to run back into the wood for fear of their hearing her; and when she next peeped out the Fish-Footman was gone, and the other was sitting on the ground near the door, staring stupidly up into the sky.\n",
    "Alice went timidly up to the door, and knocked.\n",
    "‘There’s no sort of use in knocking,’ said the Footman, ‘and that for two reasons. First, because I’m on the same side of the door as you are; secondly, because they’re making such a noise inside, no one could possibly hear you.’ And certainly there was a most extraordinary noise going on within—a constant howling and sneezing, and every now and then a great crash, as if a dish or kettle had been broken to pieces.\n",
    "‘Please, then,’ said Alice, ‘how am I to get in?’\n",
    "‘There might be some sense in your knocking,’ the Footman went on without attending to her, ‘if we had the door between us. For instance, if you were inside, you might knock, and I could let you out, you know.’ He was looking up into the sky all the time he was speaking, and this Alice thought decidedly uncivil. ‘But perhaps he can’t help it,’ she said to herself; ‘his eyes are so very nearly at the top of his head. But at any rate he might answer questions.—How am I to get in?’ she repeated, aloud.\n",
    "‘I shall sit here,’ the Footman remarked, ‘till tomorrow—’\n",
    "At this moment the door of the house opened, and a large plate came skimming out, straight at the Footman’s head: it just grazed his nose, and broke to pieces against one of the trees behind him.'''\n",
    "\n",
    "\n",
    "words=paragraph_text.split()\n",
    "counts(words)\n",
    "from collections import Counter\n",
    "c = Counter(words)\n",
    "c.most_common(10)\n"
   ]
  },
  {
   "cell_type": "markdown",
   "metadata": {},
   "source": [
    "# 4. Read in a file and write each line from the file to a new file Title-ized\n",
    "\n",
    "`This is the first line` ->  `This Is The First Line`\n",
    "\n",
    "Hint: There's a function to do this"
   ]
  },
  {
   "cell_type": "code",
   "execution_count": 204,
   "metadata": {
    "scrolled": true
   },
   "outputs": [
    {
     "name": "stdout",
     "output_type": "stream",
     "text": [
      "This Is The First Line\n"
     ]
    }
   ],
   "source": [
    "str= \"This is the first line\";\n",
    "print(str.title())"
   ]
  },
  {
   "cell_type": "markdown",
   "metadata": {},
   "source": [
    "# Numpy"
   ]
  },
  {
   "cell_type": "markdown",
   "metadata": {},
   "source": [
    "## 1. Given a list, find the average using a numpy function. "
   ]
  },
  {
   "cell_type": "code",
   "execution_count": 16,
   "metadata": {},
   "outputs": [
    {
     "data": {
      "text/plain": [
       "3.375"
      ]
     },
     "execution_count": 16,
     "metadata": {},
     "output_type": "execute_result"
    }
   ],
   "source": [
    "simple_list = [1,2,1,4,3,2,5,9]\n",
    "np.mean(simple_list)\n"
   ]
  },
  {
   "cell_type": "markdown",
   "metadata": {},
   "source": [
    "## 2. Given two lists of Heights and Weights of individual, calculate the BMI of those individuals, without writing a `for-loop`"
   ]
  },
  {
   "cell_type": "code",
   "execution_count": 24,
   "metadata": {},
   "outputs": [
    {
     "data": {
      "text/plain": [
       "array([ 29.06592681,  27.73229978,  30.73941662,  24.16326531,  26.33288875])"
      ]
     },
     "execution_count": 24,
     "metadata": {},
     "output_type": "execute_result"
    }
   ],
   "source": [
    "#Calculation: [weight (kg) / height (cm) / height (cm)] x 10,000\n",
    "heights = [174, 173, 173, 175, 171]\n",
    "weights = [88, 83, 92, 74, 77]\n",
    "x=np.divide(weights,heights)\n",
    "np.divide(x,heights)*10000"
   ]
  },
  {
   "cell_type": "markdown",
   "metadata": {},
   "source": [
    "## 3. Create an array of length 20 filled with random values (between 0 to 1) "
   ]
  },
  {
   "cell_type": "code",
   "execution_count": 35,
   "metadata": {
    "scrolled": true
   },
   "outputs": [
    {
     "data": {
      "text/plain": [
       "array([[ 0.48348595,  0.09706671,  0.6875497 ,  0.81417821,  0.83061172,\n",
       "         0.76252869,  0.39071444,  0.35220376,  0.36447072,  0.73417064,\n",
       "         0.75158988,  0.93275369,  0.69017058,  0.24670962,  0.53001989,\n",
       "         0.51519634,  0.33980643,  0.19929219,  0.61859395,  0.74291586]])"
      ]
     },
     "execution_count": 35,
     "metadata": {},
     "output_type": "execute_result"
    }
   ],
   "source": [
    "# uniform random numbers in [0,1]\n",
    "np.random.rand(1,20)"
   ]
  },
  {
   "cell_type": "markdown",
   "metadata": {},
   "source": [
    "## Bonus. 1. Create an array with a large (>1000) length filled with random numbers from different distributions (normal, uniform, etc.). 2. Then, plot a histogram of these values. "
   ]
  },
  {
   "cell_type": "code",
   "execution_count": 78,
   "metadata": {},
   "outputs": [
    {
     "data": {
      "image/png": "[encoded data removed]",
      "text/plain": [
       "<matplotlib.figure.Figure at 0x10c07e2e8>"
      ]
     },
     "metadata": {},
     "output_type": "display_data"
    }
   ],
   "source": [
    "mu, sigma = 200, 25\n",
    "x = mu + sigma*np.random.randn(1000)\n",
    "n, bins, patches = plt.hist(x)\n",
    "plt.show()"
   ]
  },
  {
   "cell_type": "markdown",
   "metadata": {},
   "source": [
    "## 1. Read in a CSV () and display all the columns and their respective data types "
   ]
  },
  {
   "cell_type": "code",
   "execution_count": 136,
   "metadata": {},
   "outputs": [
    {
     "name": "stdout",
     "output_type": "stream",
     "text": [
      "   id sex  weight  height\n",
      "0   1   M     190      77\n",
      "1   2   F     120      70\n",
      "2   3   F     110      68\n",
      "3   4   M     150      72\n",
      "4   5   O     120      66\n",
      "5   6   M     120      60\n",
      "6   7   F     140      70\n",
      "<class 'pandas.core.frame.DataFrame'>\n"
     ]
    }
   ],
   "source": [
    "df = pd.read_csv('hw_data.csv', sep=',')\n",
    "print(df)\n",
    "print(type(df))"
   ]
  },
  {
   "cell_type": "markdown",
   "metadata": {},
   "source": [
    "## 2. Find the average weight "
   ]
  },
  {
   "cell_type": "code",
   "execution_count": 113,
   "metadata": {},
   "outputs": [
    {
     "data": {
      "text/plain": [
       "135.71428571428572"
      ]
     },
     "execution_count": 113,
     "metadata": {},
     "output_type": "execute_result"
    }
   ],
   "source": [
    "df[\"weight\"].mean()"
   ]
  },
  {
   "cell_type": "markdown",
   "metadata": {},
   "source": [
    "## 3. Find the Value Counts on column `sex` "
   ]
  },
  {
   "cell_type": "code",
   "execution_count": 116,
   "metadata": {},
   "outputs": [
    {
     "data": {
      "text/plain": [
       "M    3\n",
       "F    3\n",
       "O    1\n",
       "Name: sex, dtype: int64"
      ]
     },
     "execution_count": 116,
     "metadata": {},
     "output_type": "execute_result"
    }
   ],
   "source": [
    "df.sex.value_counts()"
   ]
  },
  {
   "cell_type": "markdown",
   "metadata": {},
   "source": [
    "## 4. Plot Height vs. Weight "
   ]
  },
  {
   "cell_type": "code",
   "execution_count": 171,
   "metadata": {
    "scrolled": true
   },
   "outputs": [
    {
     "data": {
      "text/plain": [
       "Text(0.5,1,'Height vs. Weight')"
      ]
     },
     "execution_count": 171,
     "metadata": {},
     "output_type": "execute_result"
    },
    {
     "data": {
      "image/png": "[encoded data removed]",
      "text/plain": [
       "<matplotlib.figure.Figure at 0x115223f60>"
      ]
     },
     "metadata": {},
     "output_type": "display_data"
    }
   ],
   "source": [
    "plt.scatter(df.weight,df.height,)\n",
    "plt.xlabel('Weight', fontsize=16)\n",
    "plt.ylabel('Height', fontsize=16)\n",
    "plt.title('Height vs. Weight', fontsize=20)"
   ]
  },
  {
   "cell_type": "markdown",
   "metadata": {},
   "source": [
    "## 5. Calculate BMI and save as a new column"
   ]
  },
  {
   "cell_type": "code",
   "execution_count": 160,
   "metadata": {
    "scrolled": true
   },
   "outputs": [
    {
     "name": "stdout",
     "output_type": "stream",
     "text": [
      "0    22.528251\n",
      "1    17.216327\n",
      "2    16.723616\n",
      "3    20.341435\n",
      "4    19.366391\n",
      "5    23.433333\n",
      "6    20.085714\n",
      "Name: weight, dtype: float64\n",
      "   id sex  weight  height        BMI\n",
      "0   1   M     190      77  22.528251\n",
      "1   2   F     120      70  17.216327\n",
      "2   3   F     110      68  16.723616\n",
      "3   4   M     150      72  20.341435\n",
      "4   5   O     120      66  19.366391\n",
      "5   6   M     120      60  23.433333\n",
      "6   7   F     140      70  20.085714\n"
     ]
    }
   ],
   "source": [
    "#Calculation: [weight (lb) / height (in) / height (in)] x 703\n",
    "one=np.divide(df.weight, df.height)\n",
    "two=np.divide(one,df.height)\n",
    "three=np.multiply(two,703)\n",
    "print(three)\n",
    "\n",
    "df['BMI'] = three\n",
    "print(df)"
   ]
  },
  {
   "cell_type": "markdown",
   "metadata": {},
   "source": [
    "## 6. Save sheet as a new CSV file `hw_dataB.csv`"
   ]
  },
  {
   "cell_type": "code",
   "execution_count": null,
   "metadata": {},
   "outputs": [],
   "source": [
    "df.to_csv('hw_dataB.csv')"
   ]
  },
  {
   "cell_type": "markdown",
   "metadata": {},
   "source": [
    "## Run the following"
   ]
  },
  {
   "cell_type": "code",
   "execution_count": 170,
   "metadata": {},
   "outputs": [
    {
     "name": "stdout",
     "output_type": "stream",
     "text": [
      ",id,sex,weight,height,BMI\r\n",
      "0,1,M,190,77,22.52825096980941\r\n",
      "1,2,F,120,70,17.216326530612243\r\n",
      "2,3,F,110,68,16.72361591695502\r\n",
      "3,4,M,150,72,20.341435185185187\r\n",
      "4,5,O,120,66,19.366391184573004\r\n",
      "5,6,M,120,60,23.433333333333334\r\n",
      "6,7,F,140,70,20.085714285714285\r\n"
     ]
    }
   ],
   "source": [
    "!cat hw_dataB.csv"
   ]
  }
 ],
 "metadata": {
  "kernelspec": {
   "display_name": "Python 3",
   "language": "python",
   "name": "python3"
  },
  "language_info": {
   "codemirror_mode": {
    "name": "ipython",
    "version": 3
   },
   "file_extension": ".py",
   "mimetype": "text/x-python",
   "name": "python",
   "nbconvert_exporter": "python",
   "pygments_lexer": "ipython3",
   "version": "3.6.3"
  }
 },
 "nbformat": 4,
 "nbformat_minor": 1
}
